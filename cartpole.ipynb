{
  "cells": [
    {
      "cell_type": "markdown",
      "metadata": {
        "id": "hyyN-2qyK_T2"
      },
      "source": [
        "# Stable Baselines3 Tutorial - Getting Started\n",
        "\n",
        "Github repo: https://github.com/araffin/rl-tutorial-jnrr19/tree/sb3/\n",
        "\n",
        "Stable-Baselines3: https://github.com/DLR-RM/stable-baselines3\n",
        "\n",
        "Documentation: https://stable-baselines3.readthedocs.io/en/master/\n",
        "\n",
        "SB3-Contrib: https://github.com/Stable-Baselines-Team/stable-baselines3-contrib\n",
        "\n",
        "RL Baselines3 zoo: https://github.com/DLR-RM/rl-baselines3-zoo\n",
        "\n",
        "[RL Baselines3 Zoo](https://github.com/DLR-RM/rl-baselines3-zoo) is a training framework for Reinforcement Learning (RL), using Stable Baselines3.\n",
        "\n",
        "It provides scripts for training, evaluating agents, tuning hyperparameters, plotting results and recording videos.\n",
        "\n",
        "\n",
        "## Introduction\n",
        "\n",
        "In this notebook, you will learn the basics for using stable baselines library: how to create a RL model, train it and evaluate it. Because all algorithms share the same interface, we will see how simple it is to switch from one algorithm to another.\n",
        "\n",
        "\n",
        "## Install Dependencies and Stable Baselines3 Using Pip\n",
        "\n",
        "List of full dependencies can be found in the [README](https://github.com/DLR-RM/stable-baselines3).\n",
        "\n",
        "\n",
        "```\n",
        "pip install stable-baselines3[extra]\n",
        "```"
      ]
    },
    {
      "cell_type": "code",
      "execution_count": null,
      "metadata": {
        "id": "8fnNZ213H_T0"
      },
      "outputs": [],
      "source": [
        "# for autoformatting\n",
        "# %load_ext jupyter_black"
      ]
    },
    {
      "cell_type": "code",
      "execution_count": 1,
      "metadata": {
        "colab": {
          "base_uri": "https://localhost:8080/"
        },
        "id": "gWskDE2c9WoN",
        "outputId": "2d596262-7f48-4bd1-f21a-d3ea28f6f9b8"
      },
      "outputs": [
        {
          "output_type": "stream",
          "name": "stdout",
          "text": [
            "Reading package lists... Done\n",
            "Building dependency tree... Done\n",
            "Reading state information... Done\n",
            "ffmpeg is already the newest version (7:4.4.2-0ubuntu0.22.04.1).\n",
            "The following additional packages will be installed:\n",
            "  freeglut3 libegl-dev libfontenc1 libgl-dev libgl1-mesa-dev libgles-dev libgles1 libglu1-mesa\n",
            "  libglu1-mesa-dev libglvnd-core-dev libglvnd-dev libglx-dev libice-dev libopengl-dev libsm-dev\n",
            "  libxfont2 libxkbfile1 libxt-dev x11-xkb-utils xfonts-base xfonts-encodings xfonts-utils\n",
            "  xserver-common\n",
            "Suggested packages:\n",
            "  libice-doc libsm-doc libxt-doc\n",
            "The following NEW packages will be installed:\n",
            "  freeglut3 freeglut3-dev libegl-dev libfontenc1 libgl-dev libgl1-mesa-dev libgles-dev libgles1\n",
            "  libglu1-mesa libglu1-mesa-dev libglvnd-core-dev libglvnd-dev libglx-dev libice-dev libopengl-dev\n",
            "  libsm-dev libxfont2 libxkbfile1 libxt-dev x11-xkb-utils xfonts-base xfonts-encodings xfonts-utils\n",
            "  xserver-common xvfb\n",
            "0 upgraded, 25 newly installed, 0 to remove and 24 not upgraded.\n",
            "Need to get 9,074 kB of archives.\n",
            "After this operation, 18.7 MB of additional disk space will be used.\n",
            "Get:1 http://archive.ubuntu.com/ubuntu jammy/universe amd64 freeglut3 amd64 2.8.1-6 [74.0 kB]\n",
            "Get:2 http://archive.ubuntu.com/ubuntu jammy/main amd64 libglx-dev amd64 1.4.0-1 [14.1 kB]\n",
            "Get:3 http://archive.ubuntu.com/ubuntu jammy/main amd64 libgl-dev amd64 1.4.0-1 [101 kB]\n",
            "Get:4 http://archive.ubuntu.com/ubuntu jammy/main amd64 libglvnd-core-dev amd64 1.4.0-1 [12.7 kB]\n",
            "Get:5 http://archive.ubuntu.com/ubuntu jammy/main amd64 libegl-dev amd64 1.4.0-1 [18.0 kB]\n",
            "Get:6 http://archive.ubuntu.com/ubuntu jammy/main amd64 libgles1 amd64 1.4.0-1 [11.5 kB]\n",
            "Get:7 http://archive.ubuntu.com/ubuntu jammy/main amd64 libgles-dev amd64 1.4.0-1 [49.4 kB]\n",
            "Get:8 http://archive.ubuntu.com/ubuntu jammy/main amd64 libopengl-dev amd64 1.4.0-1 [3,400 B]\n",
            "Get:9 http://archive.ubuntu.com/ubuntu jammy/main amd64 libglvnd-dev amd64 1.4.0-1 [3,162 B]\n",
            "Get:10 http://archive.ubuntu.com/ubuntu jammy-updates/main amd64 libgl1-mesa-dev amd64 23.0.4-0ubuntu1~22.04.1 [6,510 B]\n",
            "Get:11 http://archive.ubuntu.com/ubuntu jammy/main amd64 libglu1-mesa amd64 9.0.2-1 [145 kB]\n",
            "Get:12 http://archive.ubuntu.com/ubuntu jammy/main amd64 libglu1-mesa-dev amd64 9.0.2-1 [231 kB]\n",
            "Get:13 http://archive.ubuntu.com/ubuntu jammy/main amd64 libice-dev amd64 2:1.0.10-1build2 [51.4 kB]\n",
            "Get:14 http://archive.ubuntu.com/ubuntu jammy/main amd64 libsm-dev amd64 2:1.2.3-1build2 [18.1 kB]\n",
            "Get:15 http://archive.ubuntu.com/ubuntu jammy/main amd64 libxt-dev amd64 1:1.2.1-1 [396 kB]\n",
            "Get:16 http://archive.ubuntu.com/ubuntu jammy/universe amd64 freeglut3-dev amd64 2.8.1-6 [126 kB]\n",
            "Get:17 http://archive.ubuntu.com/ubuntu jammy/main amd64 libfontenc1 amd64 1:1.1.4-1build3 [14.7 kB]\n",
            "Get:18 http://archive.ubuntu.com/ubuntu jammy/main amd64 libxfont2 amd64 1:2.0.5-1build1 [94.5 kB]\n",
            "Get:19 http://archive.ubuntu.com/ubuntu jammy/main amd64 libxkbfile1 amd64 1:1.1.0-1build3 [71.8 kB]\n",
            "Get:20 http://archive.ubuntu.com/ubuntu jammy/main amd64 x11-xkb-utils amd64 7.7+5build4 [172 kB]\n",
            "Get:21 http://archive.ubuntu.com/ubuntu jammy/main amd64 xfonts-encodings all 1:1.0.5-0ubuntu2 [578 kB]\n",
            "Get:22 http://archive.ubuntu.com/ubuntu jammy/main amd64 xfonts-utils amd64 1:7.7+6build2 [94.6 kB]\n",
            "Get:23 http://archive.ubuntu.com/ubuntu jammy/main amd64 xfonts-base all 1:1.0.5 [5,896 kB]\n",
            "Get:24 http://archive.ubuntu.com/ubuntu jammy-updates/main amd64 xserver-common all 2:21.1.4-2ubuntu1.7~22.04.5 [28.2 kB]\n",
            "Get:25 http://archive.ubuntu.com/ubuntu jammy-updates/universe amd64 xvfb amd64 2:21.1.4-2ubuntu1.7~22.04.5 [863 kB]\n",
            "Fetched 9,074 kB in 1s (6,247 kB/s)\n",
            "Selecting previously unselected package freeglut3:amd64.\n",
            "(Reading database ... 121658 files and directories currently installed.)\n",
            "Preparing to unpack .../00-freeglut3_2.8.1-6_amd64.deb ...\n",
            "Unpacking freeglut3:amd64 (2.8.1-6) ...\n",
            "Selecting previously unselected package libglx-dev:amd64.\n",
            "Preparing to unpack .../01-libglx-dev_1.4.0-1_amd64.deb ...\n",
            "Unpacking libglx-dev:amd64 (1.4.0-1) ...\n",
            "Selecting previously unselected package libgl-dev:amd64.\n",
            "Preparing to unpack .../02-libgl-dev_1.4.0-1_amd64.deb ...\n",
            "Unpacking libgl-dev:amd64 (1.4.0-1) ...\n",
            "Selecting previously unselected package libglvnd-core-dev:amd64.\n",
            "Preparing to unpack .../03-libglvnd-core-dev_1.4.0-1_amd64.deb ...\n",
            "Unpacking libglvnd-core-dev:amd64 (1.4.0-1) ...\n",
            "Selecting previously unselected package libegl-dev:amd64.\n",
            "Preparing to unpack .../04-libegl-dev_1.4.0-1_amd64.deb ...\n",
            "Unpacking libegl-dev:amd64 (1.4.0-1) ...\n",
            "Selecting previously unselected package libgles1:amd64.\n",
            "Preparing to unpack .../05-libgles1_1.4.0-1_amd64.deb ...\n",
            "Unpacking libgles1:amd64 (1.4.0-1) ...\n",
            "Selecting previously unselected package libgles-dev:amd64.\n",
            "Preparing to unpack .../06-libgles-dev_1.4.0-1_amd64.deb ...\n",
            "Unpacking libgles-dev:amd64 (1.4.0-1) ...\n",
            "Selecting previously unselected package libopengl-dev:amd64.\n",
            "Preparing to unpack .../07-libopengl-dev_1.4.0-1_amd64.deb ...\n",
            "Unpacking libopengl-dev:amd64 (1.4.0-1) ...\n",
            "Selecting previously unselected package libglvnd-dev:amd64.\n",
            "Preparing to unpack .../08-libglvnd-dev_1.4.0-1_amd64.deb ...\n",
            "Unpacking libglvnd-dev:amd64 (1.4.0-1) ...\n",
            "Selecting previously unselected package libgl1-mesa-dev:amd64.\n",
            "Preparing to unpack .../09-libgl1-mesa-dev_23.0.4-0ubuntu1~22.04.1_amd64.deb ...\n",
            "Unpacking libgl1-mesa-dev:amd64 (23.0.4-0ubuntu1~22.04.1) ...\n",
            "Selecting previously unselected package libglu1-mesa:amd64.\n",
            "Preparing to unpack .../10-libglu1-mesa_9.0.2-1_amd64.deb ...\n",
            "Unpacking libglu1-mesa:amd64 (9.0.2-1) ...\n",
            "Selecting previously unselected package libglu1-mesa-dev:amd64.\n",
            "Preparing to unpack .../11-libglu1-mesa-dev_9.0.2-1_amd64.deb ...\n",
            "Unpacking libglu1-mesa-dev:amd64 (9.0.2-1) ...\n",
            "Selecting previously unselected package libice-dev:amd64.\n",
            "Preparing to unpack .../12-libice-dev_2%3a1.0.10-1build2_amd64.deb ...\n",
            "Unpacking libice-dev:amd64 (2:1.0.10-1build2) ...\n",
            "Selecting previously unselected package libsm-dev:amd64.\n",
            "Preparing to unpack .../13-libsm-dev_2%3a1.2.3-1build2_amd64.deb ...\n",
            "Unpacking libsm-dev:amd64 (2:1.2.3-1build2) ...\n",
            "Selecting previously unselected package libxt-dev:amd64.\n",
            "Preparing to unpack .../14-libxt-dev_1%3a1.2.1-1_amd64.deb ...\n",
            "Unpacking libxt-dev:amd64 (1:1.2.1-1) ...\n",
            "Selecting previously unselected package freeglut3-dev:amd64.\n",
            "Preparing to unpack .../15-freeglut3-dev_2.8.1-6_amd64.deb ...\n",
            "Unpacking freeglut3-dev:amd64 (2.8.1-6) ...\n",
            "Selecting previously unselected package libfontenc1:amd64.\n",
            "Preparing to unpack .../16-libfontenc1_1%3a1.1.4-1build3_amd64.deb ...\n",
            "Unpacking libfontenc1:amd64 (1:1.1.4-1build3) ...\n",
            "Selecting previously unselected package libxfont2:amd64.\n",
            "Preparing to unpack .../17-libxfont2_1%3a2.0.5-1build1_amd64.deb ...\n",
            "Unpacking libxfont2:amd64 (1:2.0.5-1build1) ...\n",
            "Selecting previously unselected package libxkbfile1:amd64.\n",
            "Preparing to unpack .../18-libxkbfile1_1%3a1.1.0-1build3_amd64.deb ...\n",
            "Unpacking libxkbfile1:amd64 (1:1.1.0-1build3) ...\n",
            "Selecting previously unselected package x11-xkb-utils.\n",
            "Preparing to unpack .../19-x11-xkb-utils_7.7+5build4_amd64.deb ...\n",
            "Unpacking x11-xkb-utils (7.7+5build4) ...\n",
            "Selecting previously unselected package xfonts-encodings.\n",
            "Preparing to unpack .../20-xfonts-encodings_1%3a1.0.5-0ubuntu2_all.deb ...\n",
            "Unpacking xfonts-encodings (1:1.0.5-0ubuntu2) ...\n",
            "Selecting previously unselected package xfonts-utils.\n",
            "Preparing to unpack .../21-xfonts-utils_1%3a7.7+6build2_amd64.deb ...\n",
            "Unpacking xfonts-utils (1:7.7+6build2) ...\n",
            "Selecting previously unselected package xfonts-base.\n",
            "Preparing to unpack .../22-xfonts-base_1%3a1.0.5_all.deb ...\n",
            "Unpacking xfonts-base (1:1.0.5) ...\n",
            "Selecting previously unselected package xserver-common.\n",
            "Preparing to unpack .../23-xserver-common_2%3a21.1.4-2ubuntu1.7~22.04.5_all.deb ...\n",
            "Unpacking xserver-common (2:21.1.4-2ubuntu1.7~22.04.5) ...\n",
            "Selecting previously unselected package xvfb.\n",
            "Preparing to unpack .../24-xvfb_2%3a21.1.4-2ubuntu1.7~22.04.5_amd64.deb ...\n",
            "Unpacking xvfb (2:21.1.4-2ubuntu1.7~22.04.5) ...\n",
            "Setting up freeglut3:amd64 (2.8.1-6) ...\n",
            "Setting up libglvnd-core-dev:amd64 (1.4.0-1) ...\n",
            "Setting up libice-dev:amd64 (2:1.0.10-1build2) ...\n",
            "Setting up libsm-dev:amd64 (2:1.2.3-1build2) ...\n",
            "Setting up libfontenc1:amd64 (1:1.1.4-1build3) ...\n",
            "Setting up libxt-dev:amd64 (1:1.2.1-1) ...\n",
            "Setting up libgles1:amd64 (1.4.0-1) ...\n",
            "Setting up xfonts-encodings (1:1.0.5-0ubuntu2) ...\n",
            "Setting up libglx-dev:amd64 (1.4.0-1) ...\n",
            "Setting up libglu1-mesa:amd64 (9.0.2-1) ...\n",
            "Setting up libxkbfile1:amd64 (1:1.1.0-1build3) ...\n",
            "Setting up libopengl-dev:amd64 (1.4.0-1) ...\n",
            "Setting up libxfont2:amd64 (1:2.0.5-1build1) ...\n",
            "Setting up libgl-dev:amd64 (1.4.0-1) ...\n",
            "Setting up libegl-dev:amd64 (1.4.0-1) ...\n",
            "Setting up x11-xkb-utils (7.7+5build4) ...\n",
            "Setting up xfonts-utils (1:7.7+6build2) ...\n",
            "Setting up xfonts-base (1:1.0.5) ...\n",
            "Setting up libglu1-mesa-dev:amd64 (9.0.2-1) ...\n",
            "Setting up xserver-common (2:21.1.4-2ubuntu1.7~22.04.5) ...\n",
            "Setting up libgles-dev:amd64 (1.4.0-1) ...\n",
            "Setting up xvfb (2:21.1.4-2ubuntu1.7~22.04.5) ...\n",
            "Setting up libglvnd-dev:amd64 (1.4.0-1) ...\n",
            "Setting up libgl1-mesa-dev:amd64 (23.0.4-0ubuntu1~22.04.1) ...\n",
            "Setting up freeglut3-dev:amd64 (2.8.1-6) ...\n",
            "Processing triggers for libc-bin (2.35-0ubuntu3.4) ...\n",
            "/sbin/ldconfig.real: /usr/local/lib/libtbbbind_2_0.so.3 is not a symbolic link\n",
            "\n",
            "/sbin/ldconfig.real: /usr/local/lib/libtbbmalloc_proxy.so.2 is not a symbolic link\n",
            "\n",
            "/sbin/ldconfig.real: /usr/local/lib/libtbbmalloc.so.2 is not a symbolic link\n",
            "\n",
            "/sbin/ldconfig.real: /usr/local/lib/libtbb.so.12 is not a symbolic link\n",
            "\n",
            "/sbin/ldconfig.real: /usr/local/lib/libtbbbind_2_5.so.3 is not a symbolic link\n",
            "\n",
            "/sbin/ldconfig.real: /usr/local/lib/libtbbbind.so.3 is not a symbolic link\n",
            "\n",
            "Processing triggers for man-db (2.10.2-1) ...\n",
            "Processing triggers for fontconfig (2.13.1-4.2ubuntu5) ...\n",
            "Collecting stable-baselines3[extra]>=2.0.0a4\n",
            "  Downloading stable_baselines3-2.2.1-py3-none-any.whl (181 kB)\n",
            "\u001b[2K     \u001b[90m━━━━━━━━━━━━━━━━━━━━━━━━━━━━━━━━━━━━━━━━\u001b[0m \u001b[32m181.7/181.7 kB\u001b[0m \u001b[31m1.7 MB/s\u001b[0m eta \u001b[36m0:00:00\u001b[0m\n",
            "\u001b[?25hCollecting gymnasium<0.30,>=0.28.1 (from stable-baselines3[extra]>=2.0.0a4)\n",
            "  Downloading gymnasium-0.29.1-py3-none-any.whl (953 kB)\n",
            "\u001b[2K     \u001b[90m━━━━━━━━━━━━━━━━━━━━━━━━━━━━━━━━━━━━━━━━\u001b[0m \u001b[32m953.9/953.9 kB\u001b[0m \u001b[31m9.9 MB/s\u001b[0m eta \u001b[36m0:00:00\u001b[0m\n",
            "\u001b[?25hRequirement already satisfied: numpy>=1.20 in /usr/local/lib/python3.10/dist-packages (from stable-baselines3[extra]>=2.0.0a4) (1.23.5)\n",
            "Requirement already satisfied: torch>=1.13 in /usr/local/lib/python3.10/dist-packages (from stable-baselines3[extra]>=2.0.0a4) (2.1.0+cu121)\n",
            "Requirement already satisfied: cloudpickle in /usr/local/lib/python3.10/dist-packages (from stable-baselines3[extra]>=2.0.0a4) (2.2.1)\n",
            "Requirement already satisfied: pandas in /usr/local/lib/python3.10/dist-packages (from stable-baselines3[extra]>=2.0.0a4) (1.5.3)\n",
            "Requirement already satisfied: matplotlib in /usr/local/lib/python3.10/dist-packages (from stable-baselines3[extra]>=2.0.0a4) (3.7.1)\n",
            "Requirement already satisfied: opencv-python in /usr/local/lib/python3.10/dist-packages (from stable-baselines3[extra]>=2.0.0a4) (4.8.0.76)\n",
            "Requirement already satisfied: pygame in /usr/local/lib/python3.10/dist-packages (from stable-baselines3[extra]>=2.0.0a4) (2.5.2)\n",
            "Requirement already satisfied: tensorboard>=2.9.1 in /usr/local/lib/python3.10/dist-packages (from stable-baselines3[extra]>=2.0.0a4) (2.15.1)\n",
            "Requirement already satisfied: psutil in /usr/local/lib/python3.10/dist-packages (from stable-baselines3[extra]>=2.0.0a4) (5.9.5)\n",
            "Requirement already satisfied: tqdm in /usr/local/lib/python3.10/dist-packages (from stable-baselines3[extra]>=2.0.0a4) (4.66.1)\n",
            "Requirement already satisfied: rich in /usr/local/lib/python3.10/dist-packages (from stable-baselines3[extra]>=2.0.0a4) (13.7.0)\n",
            "Collecting shimmy[atari]~=1.3.0 (from stable-baselines3[extra]>=2.0.0a4)\n",
            "  Downloading Shimmy-1.3.0-py3-none-any.whl (37 kB)\n",
            "Requirement already satisfied: pillow in /usr/local/lib/python3.10/dist-packages (from stable-baselines3[extra]>=2.0.0a4) (9.4.0)\n",
            "Collecting autorom[accept-rom-license]~=0.6.1 (from stable-baselines3[extra]>=2.0.0a4)\n",
            "  Downloading AutoROM-0.6.1-py3-none-any.whl (9.4 kB)\n",
            "Requirement already satisfied: click in /usr/local/lib/python3.10/dist-packages (from autorom[accept-rom-license]~=0.6.1->stable-baselines3[extra]>=2.0.0a4) (8.1.7)\n",
            "Requirement already satisfied: requests in /usr/local/lib/python3.10/dist-packages (from autorom[accept-rom-license]~=0.6.1->stable-baselines3[extra]>=2.0.0a4) (2.31.0)\n",
            "Collecting AutoROM.accept-rom-license (from autorom[accept-rom-license]~=0.6.1->stable-baselines3[extra]>=2.0.0a4)\n",
            "  Downloading AutoROM.accept-rom-license-0.6.1.tar.gz (434 kB)\n",
            "\u001b[2K     \u001b[90m━━━━━━━━━━━━━━━━━━━━━━━━━━━━━━━━━━━━━━━━\u001b[0m \u001b[32m434.7/434.7 kB\u001b[0m \u001b[31m40.9 MB/s\u001b[0m eta \u001b[36m0:00:00\u001b[0m\n",
            "\u001b[?25h  Installing build dependencies ... \u001b[?25l\u001b[?25hdone\n",
            "  Getting requirements to build wheel ... \u001b[?25l\u001b[?25hdone\n",
            "  Preparing metadata (pyproject.toml) ... \u001b[?25l\u001b[?25hdone\n",
            "Requirement already satisfied: typing-extensions>=4.3.0 in /usr/local/lib/python3.10/dist-packages (from gymnasium<0.30,>=0.28.1->stable-baselines3[extra]>=2.0.0a4) (4.5.0)\n",
            "Collecting farama-notifications>=0.0.1 (from gymnasium<0.30,>=0.28.1->stable-baselines3[extra]>=2.0.0a4)\n",
            "  Using cached Farama_Notifications-0.0.4-py3-none-any.whl (2.5 kB)\n",
            "Collecting ale-py~=0.8.1 (from shimmy[atari]~=1.3.0->stable-baselines3[extra]>=2.0.0a4)\n",
            "  Downloading ale_py-0.8.1-cp310-cp310-manylinux_2_17_x86_64.manylinux2014_x86_64.whl (1.7 MB)\n",
            "\u001b[2K     \u001b[90m━━━━━━━━━━━━━━━━━━━━━━━━━━━━━━━━━━━━━━━━\u001b[0m \u001b[32m1.7/1.7 MB\u001b[0m \u001b[31m30.4 MB/s\u001b[0m eta \u001b[36m0:00:00\u001b[0m\n",
            "\u001b[?25hRequirement already satisfied: absl-py>=0.4 in /usr/local/lib/python3.10/dist-packages (from tensorboard>=2.9.1->stable-baselines3[extra]>=2.0.0a4) (1.4.0)\n",
            "Requirement already satisfied: grpcio>=1.48.2 in /usr/local/lib/python3.10/dist-packages (from tensorboard>=2.9.1->stable-baselines3[extra]>=2.0.0a4) (1.60.0)\n",
            "Requirement already satisfied: google-auth<3,>=1.6.3 in /usr/local/lib/python3.10/dist-packages (from tensorboard>=2.9.1->stable-baselines3[extra]>=2.0.0a4) (2.17.3)\n",
            "Requirement already satisfied: google-auth-oauthlib<2,>=0.5 in /usr/local/lib/python3.10/dist-packages (from tensorboard>=2.9.1->stable-baselines3[extra]>=2.0.0a4) (1.2.0)\n",
            "Requirement already satisfied: markdown>=2.6.8 in /usr/local/lib/python3.10/dist-packages (from tensorboard>=2.9.1->stable-baselines3[extra]>=2.0.0a4) (3.5.1)\n",
            "Requirement already satisfied: protobuf<4.24,>=3.19.6 in /usr/local/lib/python3.10/dist-packages (from tensorboard>=2.9.1->stable-baselines3[extra]>=2.0.0a4) (3.20.3)\n",
            "Requirement already satisfied: setuptools>=41.0.0 in /usr/local/lib/python3.10/dist-packages (from tensorboard>=2.9.1->stable-baselines3[extra]>=2.0.0a4) (67.7.2)\n",
            "Requirement already satisfied: six>1.9 in /usr/local/lib/python3.10/dist-packages (from tensorboard>=2.9.1->stable-baselines3[extra]>=2.0.0a4) (1.16.0)\n",
            "Requirement already satisfied: tensorboard-data-server<0.8.0,>=0.7.0 in /usr/local/lib/python3.10/dist-packages (from tensorboard>=2.9.1->stable-baselines3[extra]>=2.0.0a4) (0.7.2)\n",
            "Requirement already satisfied: werkzeug>=1.0.1 in /usr/local/lib/python3.10/dist-packages (from tensorboard>=2.9.1->stable-baselines3[extra]>=2.0.0a4) (3.0.1)\n",
            "Requirement already satisfied: filelock in /usr/local/lib/python3.10/dist-packages (from torch>=1.13->stable-baselines3[extra]>=2.0.0a4) (3.13.1)\n",
            "Requirement already satisfied: sympy in /usr/local/lib/python3.10/dist-packages (from torch>=1.13->stable-baselines3[extra]>=2.0.0a4) (1.12)\n",
            "Requirement already satisfied: networkx in /usr/local/lib/python3.10/dist-packages (from torch>=1.13->stable-baselines3[extra]>=2.0.0a4) (3.2.1)\n",
            "Requirement already satisfied: jinja2 in /usr/local/lib/python3.10/dist-packages (from torch>=1.13->stable-baselines3[extra]>=2.0.0a4) (3.1.2)\n",
            "Requirement already satisfied: fsspec in /usr/local/lib/python3.10/dist-packages (from torch>=1.13->stable-baselines3[extra]>=2.0.0a4) (2023.6.0)\n",
            "Requirement already satisfied: triton==2.1.0 in /usr/local/lib/python3.10/dist-packages (from torch>=1.13->stable-baselines3[extra]>=2.0.0a4) (2.1.0)\n",
            "Requirement already satisfied: contourpy>=1.0.1 in /usr/local/lib/python3.10/dist-packages (from matplotlib->stable-baselines3[extra]>=2.0.0a4) (1.2.0)\n",
            "Requirement already satisfied: cycler>=0.10 in /usr/local/lib/python3.10/dist-packages (from matplotlib->stable-baselines3[extra]>=2.0.0a4) (0.12.1)\n",
            "Requirement already satisfied: fonttools>=4.22.0 in /usr/local/lib/python3.10/dist-packages (from matplotlib->stable-baselines3[extra]>=2.0.0a4) (4.46.0)\n",
            "Requirement already satisfied: kiwisolver>=1.0.1 in /usr/local/lib/python3.10/dist-packages (from matplotlib->stable-baselines3[extra]>=2.0.0a4) (1.4.5)\n",
            "Requirement already satisfied: packaging>=20.0 in /usr/local/lib/python3.10/dist-packages (from matplotlib->stable-baselines3[extra]>=2.0.0a4) (23.2)\n",
            "Requirement already satisfied: pyparsing>=2.3.1 in /usr/local/lib/python3.10/dist-packages (from matplotlib->stable-baselines3[extra]>=2.0.0a4) (3.1.1)\n",
            "Requirement already satisfied: python-dateutil>=2.7 in /usr/local/lib/python3.10/dist-packages (from matplotlib->stable-baselines3[extra]>=2.0.0a4) (2.8.2)\n",
            "Requirement already satisfied: pytz>=2020.1 in /usr/local/lib/python3.10/dist-packages (from pandas->stable-baselines3[extra]>=2.0.0a4) (2023.3.post1)\n",
            "Requirement already satisfied: markdown-it-py>=2.2.0 in /usr/local/lib/python3.10/dist-packages (from rich->stable-baselines3[extra]>=2.0.0a4) (3.0.0)\n",
            "Requirement already satisfied: pygments<3.0.0,>=2.13.0 in /usr/local/lib/python3.10/dist-packages (from rich->stable-baselines3[extra]>=2.0.0a4) (2.16.1)\n",
            "Requirement already satisfied: importlib-resources in /usr/local/lib/python3.10/dist-packages (from ale-py~=0.8.1->shimmy[atari]~=1.3.0->stable-baselines3[extra]>=2.0.0a4) (6.1.1)\n",
            "Requirement already satisfied: cachetools<6.0,>=2.0.0 in /usr/local/lib/python3.10/dist-packages (from google-auth<3,>=1.6.3->tensorboard>=2.9.1->stable-baselines3[extra]>=2.0.0a4) (5.3.2)\n",
            "Requirement already satisfied: pyasn1-modules>=0.2.1 in /usr/local/lib/python3.10/dist-packages (from google-auth<3,>=1.6.3->tensorboard>=2.9.1->stable-baselines3[extra]>=2.0.0a4) (0.3.0)\n",
            "Requirement already satisfied: rsa<5,>=3.1.4 in /usr/local/lib/python3.10/dist-packages (from google-auth<3,>=1.6.3->tensorboard>=2.9.1->stable-baselines3[extra]>=2.0.0a4) (4.9)\n",
            "Requirement already satisfied: requests-oauthlib>=0.7.0 in /usr/local/lib/python3.10/dist-packages (from google-auth-oauthlib<2,>=0.5->tensorboard>=2.9.1->stable-baselines3[extra]>=2.0.0a4) (1.3.1)\n",
            "Requirement already satisfied: mdurl~=0.1 in /usr/local/lib/python3.10/dist-packages (from markdown-it-py>=2.2.0->rich->stable-baselines3[extra]>=2.0.0a4) (0.1.2)\n",
            "Requirement already satisfied: charset-normalizer<4,>=2 in /usr/local/lib/python3.10/dist-packages (from requests->autorom[accept-rom-license]~=0.6.1->stable-baselines3[extra]>=2.0.0a4) (3.3.2)\n",
            "Requirement already satisfied: idna<4,>=2.5 in /usr/local/lib/python3.10/dist-packages (from requests->autorom[accept-rom-license]~=0.6.1->stable-baselines3[extra]>=2.0.0a4) (3.6)\n",
            "Requirement already satisfied: urllib3<3,>=1.21.1 in /usr/local/lib/python3.10/dist-packages (from requests->autorom[accept-rom-license]~=0.6.1->stable-baselines3[extra]>=2.0.0a4) (2.0.7)\n",
            "Requirement already satisfied: certifi>=2017.4.17 in /usr/local/lib/python3.10/dist-packages (from requests->autorom[accept-rom-license]~=0.6.1->stable-baselines3[extra]>=2.0.0a4) (2023.11.17)\n",
            "Requirement already satisfied: MarkupSafe>=2.1.1 in /usr/local/lib/python3.10/dist-packages (from werkzeug>=1.0.1->tensorboard>=2.9.1->stable-baselines3[extra]>=2.0.0a4) (2.1.3)\n",
            "Requirement already satisfied: mpmath>=0.19 in /usr/local/lib/python3.10/dist-packages (from sympy->torch>=1.13->stable-baselines3[extra]>=2.0.0a4) (1.3.0)\n",
            "Requirement already satisfied: pyasn1<0.6.0,>=0.4.6 in /usr/local/lib/python3.10/dist-packages (from pyasn1-modules>=0.2.1->google-auth<3,>=1.6.3->tensorboard>=2.9.1->stable-baselines3[extra]>=2.0.0a4) (0.5.1)\n",
            "Requirement already satisfied: oauthlib>=3.0.0 in /usr/local/lib/python3.10/dist-packages (from requests-oauthlib>=0.7.0->google-auth-oauthlib<2,>=0.5->tensorboard>=2.9.1->stable-baselines3[extra]>=2.0.0a4) (3.2.2)\n",
            "Building wheels for collected packages: AutoROM.accept-rom-license\n",
            "  Building wheel for AutoROM.accept-rom-license (pyproject.toml) ... \u001b[?25l\u001b[?25hdone\n",
            "  Created wheel for AutoROM.accept-rom-license: filename=AutoROM.accept_rom_license-0.6.1-py3-none-any.whl size=446660 sha256=a62f515b231f28f7136934a59e0a2e1cc558764f397b2f4ca657309847bbc539\n",
            "  Stored in directory: /root/.cache/pip/wheels/6b/1b/ef/a43ff1a2f1736d5711faa1ba4c1f61be1131b8899e6a057811\n",
            "Successfully built AutoROM.accept-rom-license\n",
            "Installing collected packages: farama-notifications, gymnasium, ale-py, shimmy, AutoROM.accept-rom-license, autorom, stable-baselines3\n",
            "Successfully installed AutoROM.accept-rom-license-0.6.1 ale-py-0.8.1 autorom-0.6.1 farama-notifications-0.0.4 gymnasium-0.29.1 shimmy-1.3.0 stable-baselines3-2.2.1\n"
          ]
        }
      ],
      "source": [
        "!apt-get install ffmpeg freeglut3-dev xvfb  # For visualization\n",
        "!pip install \"stable-baselines3[extra]>=2.0.0a4\""
      ]
    },
    {
      "cell_type": "markdown",
      "metadata": {
        "id": "FtY8FhliLsGm"
      },
      "source": [
        "## Imports"
      ]
    },
    {
      "cell_type": "markdown",
      "metadata": {
        "id": "gcX8hEcaUpR0"
      },
      "source": [
        "Stable-Baselines3 works on environments that follow the [gym interface](https://stable-baselines3.readthedocs.io/en/master/guide/custom_env.html).\n",
        "You can find a list of available environment [here](https://gymnasium.farama.org/environments/classic_control/).\n",
        "\n",
        "Not all algorithms can work with all action spaces, you can find more in this [recap table](https://stable-baselines3.readthedocs.io/en/master/guide/algos.html)"
      ]
    },
    {
      "cell_type": "code",
      "execution_count": 2,
      "metadata": {
        "id": "BIedd7Pz9sOs"
      },
      "outputs": [],
      "source": [
        "import gymnasium as gym\n",
        "import numpy as np"
      ]
    },
    {
      "cell_type": "markdown",
      "metadata": {
        "id": "Ae32CtgzTG3R"
      },
      "source": [
        "The first thing you need to import is the RL model, check the documentation to know what you can use on which problem"
      ]
    },
    {
      "cell_type": "code",
      "execution_count": 3,
      "metadata": {
        "id": "R7tKaBFrTR0a"
      },
      "outputs": [],
      "source": [
        "from stable_baselines3 import PPO"
      ]
    },
    {
      "cell_type": "markdown",
      "metadata": {
        "id": "-0_8OQbOTTNT"
      },
      "source": [
        "The next thing you need to import is the policy class that will be used to create the networks (for the policy/value functions).\n",
        "This step is optional as you can directly use strings in the constructor:\n",
        "\n",
        "```PPO('MlpPolicy', env)``` instead of ```PPO(MlpPolicy, env)```\n",
        "\n",
        "Note that some algorithms like `SAC` have their own `MlpPolicy`, that's why using string for the policy is the recommended option."
      ]
    },
    {
      "cell_type": "code",
      "execution_count": 4,
      "metadata": {
        "id": "ROUJr675TT01"
      },
      "outputs": [],
      "source": [
        "from stable_baselines3.ppo.policies import MlpPolicy"
      ]
    },
    {
      "cell_type": "markdown",
      "metadata": {
        "id": "RapkYvTXL7Cd"
      },
      "source": [
        "## Create the Gym env and instantiate the agent\n",
        "\n",
        "For this example, we will use CartPole environment, a classic control problem.\n",
        "\n",
        "\"A pole is attached by an un-actuated joint to a cart, which moves along a frictionless track. The system is controlled by applying a force of +1 or -1 to the cart. The pendulum starts upright, and the goal is to prevent it from falling over. A reward of +1 is provided for every timestep that the pole remains upright. \"\n",
        "\n",
        "Cartpole environment: [https://gymnasium.farama.org/environments/classic_control/cart_pole/](https://gymnasium.farama.org/environments/classic_control/cart_pole/)\n",
        "\n",
        "![Cartpole](https://cdn-images-1.medium.com/max/1143/1*h4WTQNVIsvMXJTCpXm_TAw.gif)\n",
        "\n",
        "\n",
        "We chose the MlpPolicy because the observation of the CartPole task is a feature vector, not images.\n",
        "\n",
        "The type of action to use (discrete/continuous) will be automatically deduced from the environment action space\n",
        "\n",
        "Here we are using the [Proximal Policy Optimization](https://stable-baselines3.readthedocs.io/en/master/modules/ppo.html) algorithm, which is an Actor-Critic method: it uses a value function to improve the policy gradient descent (by reducing the variance).\n",
        "\n",
        "It combines ideas from [A2C](https://stable-baselines3.readthedocs.io/en/master/modules/a2c.html) (having multiple workers and using an entropy bonus for exploration) and [TRPO](https://stable-baselines.readthedocs.io/en/master/modules/trpo.html) (it uses a trust region to improve stability and avoid catastrophic drops in performance).\n",
        "\n",
        "PPO is an on-policy algorithm, which means that the trajectories used to update the networks must be collected using the latest policy.\n",
        "It is usually less sample efficient than off-policy alorithms like [DQN](https://stable-baselines.readthedocs.io/en/master/modules/dqn.html), [SAC](https://stable-baselines3.readthedocs.io/en/master/modules/sac.html) or [TD3](https://stable-baselines3.readthedocs.io/en/master/modules/td3.html), but is much faster regarding wall-clock time.\n"
      ]
    },
    {
      "cell_type": "code",
      "execution_count": 5,
      "metadata": {
        "id": "pUWGZp3i9wyf"
      },
      "outputs": [],
      "source": [
        "env = gym.make(\"CartPole-v1\")\n",
        "\n",
        "model = PPO(MlpPolicy, env, verbose=0)"
      ]
    },
    {
      "cell_type": "markdown",
      "metadata": {
        "id": "4efFdrQ7MBvl"
      },
      "source": [
        "We create a helper function to evaluate the agent:"
      ]
    },
    {
      "cell_type": "code",
      "execution_count": 6,
      "metadata": {
        "id": "63M8mSKR-6Zt"
      },
      "outputs": [],
      "source": [
        "from stable_baselines3.common.base_class import BaseAlgorithm\n",
        "\n",
        "\n",
        "def evaluate(\n",
        "    model: BaseAlgorithm,\n",
        "    num_episodes: int = 100,\n",
        "    deterministic: bool = True,\n",
        ") -> float:\n",
        "    \"\"\"\n",
        "    Evaluate an RL agent for `num_episodes`.\n",
        "\n",
        "    :param model: the RL Agent\n",
        "    :param env: the gym Environment\n",
        "    :param num_episodes: number of episodes to evaluate it\n",
        "    :param deterministic: Whether to use deterministic or stochastic actions\n",
        "    :return: Mean reward for the last `num_episodes`\n",
        "    \"\"\"\n",
        "    # This function will only work for a single environment\n",
        "    vec_env = model.get_env()\n",
        "    obs = vec_env.reset()\n",
        "    all_episode_rewards = []\n",
        "    for _ in range(num_episodes):\n",
        "        episode_rewards = []\n",
        "        done = False\n",
        "        # Note: SB3 VecEnv resets automatically:\n",
        "        # https://stable-baselines3.readthedocs.io/en/master/guide/vec_envs.html#vecenv-api-vs-gym-api\n",
        "        # obs = vec_env.reset()\n",
        "        while not done:\n",
        "            # _states are only useful when using LSTM policies\n",
        "            # `deterministic` is to use deterministic actions\n",
        "            action, _states = model.predict(obs, deterministic=deterministic)\n",
        "            # here, action, rewards and dones are arrays\n",
        "            # because we are using vectorized env\n",
        "            obs, reward, done, _info = vec_env.step(action)\n",
        "            episode_rewards.append(reward)\n",
        "\n",
        "        all_episode_rewards.append(sum(episode_rewards))\n",
        "\n",
        "    mean_episode_reward = np.mean(all_episode_rewards)\n",
        "    print(f\"Mean reward: {mean_episode_reward:.2f} - Num episodes: {num_episodes}\")\n",
        "\n",
        "    return mean_episode_reward"
      ]
    },
    {
      "cell_type": "markdown",
      "metadata": {
        "id": "zjEVOIY8NVeK"
      },
      "source": [
        "Let's evaluate the un-trained agent, this should be a random agent."
      ]
    },
    {
      "cell_type": "code",
      "execution_count": 7,
      "metadata": {
        "colab": {
          "base_uri": "https://localhost:8080/"
        },
        "id": "xDHLMA6NFk95",
        "outputId": "65c1414a-a04f-407e-8dde-2444c064721d"
      },
      "outputs": [
        {
          "output_type": "stream",
          "name": "stdout",
          "text": [
            "Mean reward: 8.79 - Num episodes: 100\n"
          ]
        }
      ],
      "source": [
        "# Random Agent, before training\n",
        "mean_reward_before_train = evaluate(model, num_episodes=100, deterministic=True)"
      ]
    },
    {
      "cell_type": "markdown",
      "metadata": {
        "id": "QjjPxrwkYJ2i"
      },
      "source": [
        "Stable-Baselines already provides you with that helper:"
      ]
    },
    {
      "cell_type": "code",
      "execution_count": 9,
      "metadata": {
        "id": "8z6K9YImYJEx"
      },
      "outputs": [],
      "source": [
        "from stable_baselines3.common.evaluation import evaluate_policy"
      ]
    },
    {
      "cell_type": "code",
      "execution_count": 10,
      "metadata": {
        "colab": {
          "base_uri": "https://localhost:8080/"
        },
        "id": "4oPTHjxyZSOL",
        "outputId": "90773dcd-fb74-4fda-aef4-bedf21cb0631"
      },
      "outputs": [
        {
          "output_type": "stream",
          "name": "stdout",
          "text": [
            "mean_reward: 8.84 +/- 0.54\n"
          ]
        }
      ],
      "source": [
        "mean_reward, std_reward = evaluate_policy(model, env, n_eval_episodes=100, warn=False)\n",
        "\n",
        "print(f\"mean_reward: {mean_reward:.2f} +/- {std_reward:.2f}\")"
      ]
    },
    {
      "cell_type": "markdown",
      "metadata": {
        "id": "r5UoXTZPNdFE"
      },
      "source": [
        "## Train the agent and evaluate it"
      ]
    },
    {
      "cell_type": "code",
      "execution_count": 11,
      "metadata": {
        "colab": {
          "base_uri": "https://localhost:8080/"
        },
        "id": "e4cfSXIB-pTF",
        "outputId": "6dca1084-8875-483d-a28d-cb81bdacdb05"
      },
      "outputs": [
        {
          "output_type": "execute_result",
          "data": {
            "text/plain": [
              "<stable_baselines3.ppo.ppo.PPO at 0x795683f798a0>"
            ]
          },
          "metadata": {},
          "execution_count": 11
        }
      ],
      "source": [
        "# Train the agent for 10000 steps\n",
        "model.learn(total_timesteps=10_000)"
      ]
    },
    {
      "cell_type": "code",
      "execution_count": 12,
      "metadata": {
        "colab": {
          "base_uri": "https://localhost:8080/"
        },
        "id": "ygl_gVmV_QP7",
        "outputId": "1ca33c97-08f5-4e99-c328-22748601531d"
      },
      "outputs": [
        {
          "output_type": "stream",
          "name": "stderr",
          "text": [
            "/usr/local/lib/python3.10/dist-packages/stable_baselines3/common/evaluation.py:67: UserWarning: Evaluation environment is not wrapped with a ``Monitor`` wrapper. This may result in reporting modified episode lengths and rewards, if other wrappers happen to modify these. Consider wrapping environment first with ``Monitor`` wrapper.\n",
            "  warnings.warn(\n"
          ]
        },
        {
          "output_type": "stream",
          "name": "stdout",
          "text": [
            "mean_reward:374.53 +/- 120.96\n"
          ]
        }
      ],
      "source": [
        "# Evaluate the trained agent\n",
        "mean_reward, std_reward = evaluate_policy(model, env, n_eval_episodes=100)\n",
        "\n",
        "print(f\"mean_reward:{mean_reward:.2f} +/- {std_reward:.2f}\")"
      ]
    },
    {
      "cell_type": "markdown",
      "metadata": {
        "id": "A00W6yY3NkHG"
      },
      "source": [
        "Apparently the training went well, the mean reward increased a lot !"
      ]
    },
    {
      "cell_type": "markdown",
      "metadata": {
        "id": "xVm9QPNVwKXN"
      },
      "source": [
        "### Prepare video recording"
      ]
    },
    {
      "cell_type": "code",
      "execution_count": 13,
      "metadata": {
        "id": "MPyfQxD5z26J"
      },
      "outputs": [],
      "source": [
        "# Set up fake display; otherwise rendering will fail\n",
        "import os\n",
        "os.system(\"Xvfb :1 -screen 0 1024x768x24 &\")\n",
        "os.environ['DISPLAY'] = ':1'"
      ]
    },
    {
      "cell_type": "code",
      "execution_count": 14,
      "metadata": {
        "id": "SLzXxO8VMD6N"
      },
      "outputs": [],
      "source": [
        "import base64\n",
        "from pathlib import Path\n",
        "\n",
        "from IPython import display as ipythondisplay\n",
        "\n",
        "\n",
        "def show_videos(video_path=\"\", prefix=\"\"):\n",
        "    \"\"\"\n",
        "    Taken from https://github.com/eleurent/highway-env\n",
        "\n",
        "    :param video_path: (str) Path to the folder containing videos\n",
        "    :param prefix: (str) Filter the video, showing only the only starting with this prefix\n",
        "    \"\"\"\n",
        "    html = []\n",
        "    for mp4 in Path(video_path).glob(\"{}*.mp4\".format(prefix)):\n",
        "        video_b64 = base64.b64encode(mp4.read_bytes())\n",
        "        html.append(\n",
        "            \"\"\"<video alt=\"{}\" autoplay\n",
        "                    loop controls style=\"height: 400px;\">\n",
        "                    <source src=\"data:video/mp4;base64,{}\" type=\"video/mp4\" />\n",
        "                </video>\"\"\".format(\n",
        "                mp4, video_b64.decode(\"ascii\")\n",
        "            )\n",
        "        )\n",
        "    ipythondisplay.display(ipythondisplay.HTML(data=\"<br>\".join(html)))"
      ]
    },
    {
      "cell_type": "markdown",
      "metadata": {
        "id": "LTRNUfulOGaF"
      },
      "source": [
        "We will record a video using the [VecVideoRecorder](https://stable-baselines3.readthedocs.io/en/master/guide/vec_envs.html#vecvideorecorder) wrapper, you will learn about those wrapper in the next notebook."
      ]
    },
    {
      "cell_type": "code",
      "execution_count": 15,
      "metadata": {
        "id": "Trag9dQpOIhx"
      },
      "outputs": [],
      "source": [
        "from stable_baselines3.common.vec_env import VecVideoRecorder, DummyVecEnv\n",
        "\n",
        "\n",
        "def record_video(env_id, model, video_length=500, prefix=\"\", video_folder=\"videos/\"):\n",
        "    \"\"\"\n",
        "    :param env_id: (str)\n",
        "    :param model: (RL model)\n",
        "    :param video_length: (int)\n",
        "    :param prefix: (str)\n",
        "    :param video_folder: (str)\n",
        "    \"\"\"\n",
        "    eval_env = DummyVecEnv([lambda: gym.make(env_id, render_mode=\"rgb_array\")])\n",
        "    # Start the video at step=0 and record 500 steps\n",
        "    eval_env = VecVideoRecorder(\n",
        "        eval_env,\n",
        "        video_folder=video_folder,\n",
        "        record_video_trigger=lambda step: step == 0,\n",
        "        video_length=video_length,\n",
        "        name_prefix=prefix,\n",
        "    )\n",
        "\n",
        "    obs = eval_env.reset()\n",
        "    for _ in range(video_length):\n",
        "        action, _ = model.predict(obs)\n",
        "        obs, _, _, _ = eval_env.step(action)\n",
        "\n",
        "    # Close the video recorder\n",
        "    eval_env.close()"
      ]
    },
    {
      "cell_type": "markdown",
      "metadata": {
        "id": "KOObbeu5MMlR"
      },
      "source": [
        "### Visualize trained agent\n",
        "\n"
      ]
    },
    {
      "cell_type": "code",
      "execution_count": 16,
      "metadata": {
        "colab": {
          "base_uri": "https://localhost:8080/"
        },
        "id": "iATu7AiyMQW2",
        "outputId": "3fb78d85-602b-456d-cd5b-259f836eb726"
      },
      "outputs": [
        {
          "output_type": "stream",
          "name": "stdout",
          "text": [
            "Saving video to /content/videos/ppo-cartpole-step-0-to-step-500.mp4\n",
            "Moviepy - Building video /content/videos/ppo-cartpole-step-0-to-step-500.mp4.\n",
            "Moviepy - Writing video /content/videos/ppo-cartpole-step-0-to-step-500.mp4\n",
            "\n"
          ]
        },
        {
          "output_type": "stream",
          "name": "stderr",
          "text": []
        },
        {
          "output_type": "stream",
          "name": "stdout",
          "text": [
            "Moviepy - Done !\n",
            "Moviepy - video ready /content/videos/ppo-cartpole-step-0-to-step-500.mp4\n"
          ]
        }
      ],
      "source": [
        "record_video(\"CartPole-v1\", model, video_length=500, prefix=\"ppo-cartpole\")"
      ]
    },
    {
      "cell_type": "code",
      "execution_count": 17,
      "metadata": {
        "colab": {
          "base_uri": "https://localhost:8080/",
          "height": 421
        },
        "id": "-n4i-fW3NojZ",
        "outputId": "81d66279-9c46-4d91-c502-b254f1ace13c"
      },
      "outputs": [
        {
          "output_type": "display_data",
          "data": {
            "text/plain": [
              "<IPython.core.display.HTML object>"
            ],
            "text/html": [
              "<video alt=\"videos/ppo-cartpole-step-0-to-step-500.mp4\" autoplay \n",
              "                    loop controls style=\"height: 400px;\">\n",
              "                    <source src=\"data:video/mp4;base64,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\" type=\"video/mp4\" />\n",
              "                </video>"
            ]
          },
          "metadata": {}
        }
      ],
      "source": [
        "show_videos(\"videos\", prefix=\"ppo\")"
      ]
    },
    {
      "cell_type": "markdown",
      "metadata": {
        "id": "9Y8zg4V566qD"
      },
      "source": [
        "## Bonus: Train a RL Model in One Line\n",
        "\n",
        "The policy class to use will be inferred and the environment will be automatically created. This works because both are [registered](https://stable-baselines3.readthedocs.io/en/master/guide/quickstart.html)."
      ]
    },
    {
      "cell_type": "code",
      "execution_count": null,
      "metadata": {
        "id": "iaOPfOrwWEP4"
      },
      "outputs": [],
      "source": [
        "model = PPO('MlpPolicy', \"CartPole-v1\", verbose=1).learn(1000)"
      ]
    },
    {
      "cell_type": "markdown",
      "metadata": {
        "id": "FrI6f5fWnzp-"
      },
      "source": [
        "## Conclusion\n",
        "\n",
        "In this notebook we have seen:\n",
        "- how to define and train a RL model using stable baselines3, it takes only one line of code ;)"
      ]
    },
    {
      "cell_type": "code",
      "execution_count": null,
      "metadata": {
        "id": "73ji3gbNDkf7"
      },
      "outputs": [],
      "source": []
    }
  ],
  "metadata": {
    "accelerator": "GPU",
    "colab": {
      "name": "1_getting_started.ipynb",
      "provenance": []
    },
    "kernelspec": {
      "display_name": "Python 3 (ipykernel)",
      "language": "python",
      "name": "python3"
    },
    "language_info": {
      "codemirror_mode": {
        "name": "ipython",
        "version": 3
      },
      "file_extension": ".py",
      "mimetype": "text/x-python",
      "name": "python",
      "nbconvert_exporter": "python",
      "pygments_lexer": "ipython3",
      "version": "3.10.9"
    }
  },
  "nbformat": 4,
  "nbformat_minor": 0
}